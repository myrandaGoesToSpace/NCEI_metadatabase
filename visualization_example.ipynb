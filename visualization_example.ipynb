{
 "cells": [
  {
   "cell_type": "code",
   "execution_count": 1,
   "id": "b873f4bf",
   "metadata": {},
   "outputs": [],
   "source": [
    "# Visualization example using KGLab\n",
    "# documentation: https://derwen.ai/docs/kgl/\n",
    "import kglab\n",
    "import pandas as pd\n",
    "import rdflib\n",
    "import pyvis.network\n",
    "import numpy\n",
    "import matplotlib.pyplot as plt"
   ]
  },
  {
   "cell_type": "code",
   "execution_count": 2,
   "id": "06cf1c42",
   "metadata": {},
   "outputs": [],
   "source": [
    "# Create a knowledge graph\n",
    "kg = kglab.KnowledgeGraph()"
   ]
  },
  {
   "cell_type": "code",
   "execution_count": 3,
   "id": "e026e637",
   "metadata": {},
   "outputs": [
    {
     "data": {
      "text/plain": [
       "<kglab.kglab.KnowledgeGraph at 0x7fe21eaa1810>"
      ]
     },
     "execution_count": 3,
     "metadata": {},
     "output_type": "execute_result"
    }
   ],
   "source": [
    "# Load data\n",
    "\n",
    "# Enter RDF filename below\n",
    "filename = 'data/geoportal_search_rdf.xml'\n",
    "\n",
    "# Load RDF (example as XML)\n",
    "kg.load_rdf(filename, format = 'xml', base = None)"
   ]
  },
  {
   "cell_type": "code",
   "execution_count": 4,
   "id": "67e162fc",
   "metadata": {
    "scrolled": true
   },
   "outputs": [
    {
     "data": {
      "text/html": [
       "\n",
       "        <iframe\n",
       "            width=\"500px\"\n",
       "            height=\"500px\"\n",
       "            src=\"tmp.geoportal_search.html\"\n",
       "            frameborder=\"0\"\n",
       "            allowfullscreen\n",
       "            \n",
       "        ></iframe>\n",
       "        "
      ],
      "text/plain": [
       "<IPython.lib.display.IFrame at 0x7fe21e718c10>"
      ]
     },
     "execution_count": 4,
     "metadata": {},
     "output_type": "execute_result"
    }
   ],
   "source": [
    "# Visualize graph\n",
    "subgraph = kglab.SubgraphTensor(kg)\n",
    "pyvis_graph = subgraph.build_pyvis_graph(notebook = True)\n",
    "\n",
    "pyvis_graph.force_atlas_2based()\n",
    "pyvis_graph.show(\"tmp.geoportal_search.html\" )"
   ]
  }
 ],
 "metadata": {
  "kernelspec": {
   "display_name": "Python 3",
   "language": "python",
   "name": "python3"
  },
  "language_info": {
   "codemirror_mode": {
    "name": "ipython",
    "version": 3
   },
   "file_extension": ".py",
   "mimetype": "text/x-python",
   "name": "python",
   "nbconvert_exporter": "python",
   "pygments_lexer": "ipython3",
   "version": "3.7.10"
  }
 },
 "nbformat": 4,
 "nbformat_minor": 5
}
