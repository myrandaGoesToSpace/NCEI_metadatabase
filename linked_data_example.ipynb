{
 "cells": [
  {
   "cell_type": "code",
   "execution_count": 1,
   "id": "b873f4bf",
   "metadata": {},
   "outputs": [],
   "source": [
    "# Linked data example notebook\n",
    "import kglab\n",
    "import pandas as pd\n",
    "import rdflib\n",
    "import pyvis.network\n",
    "import numpy\n",
    "import matplotlib.pyplot as plt"
   ]
  },
  {
   "cell_type": "code",
   "execution_count": null,
   "id": "06cf1c42",
   "metadata": {},
   "outputs": [],
   "source": [
    "# Create a knowledge graph\n",
    "kg = kglab.KnowledgeGraph()"
   ]
  },
  {
   "cell_type": "code",
   "execution_count": null,
   "id": "e026e637",
   "metadata": {},
   "outputs": [],
   "source": [
    "# Load data"
   ]
  },
  {
   "cell_type": "code",
   "execution_count": null,
   "id": "67e162fc",
   "metadata": {},
   "outputs": [],
   "source": [
    "# Visualize graph"
   ]
  }
 ],
 "metadata": {
  "kernelspec": {
   "display_name": "Python 3",
   "language": "python",
   "name": "python3"
  },
  "language_info": {
   "codemirror_mode": {
    "name": "ipython",
    "version": 3
   },
   "file_extension": ".py",
   "mimetype": "text/x-python",
   "name": "python",
   "nbconvert_exporter": "python",
   "pygments_lexer": "ipython3",
   "version": "3.7.10"
  }
 },
 "nbformat": 4,
 "nbformat_minor": 5
}
