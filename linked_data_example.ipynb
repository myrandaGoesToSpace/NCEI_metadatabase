{
 "cells": [
  {
   "cell_type": "code",
   "execution_count": 1,
   "id": "b873f4bf",
   "metadata": {},
   "outputs": [],
   "source": [
    "# Linked data example notebook\n",
    "import kglab\n",
    "import pandas as pd\n",
    "import rdflib\n",
    "import pyvis.network\n",
    "import numpy\n",
    "import matplotlib.pyplot as plt"
   ]
  },
  {
   "cell_type": "code",
   "execution_count": 13,
   "id": "06cf1c42",
   "metadata": {},
   "outputs": [],
   "source": [
    "# Create a knowledge graph\n",
    "kg = kglab.KnowledgeGraph()"
   ]
  },
  {
   "cell_type": "code",
   "execution_count": 14,
   "id": "e026e637",
   "metadata": {},
   "outputs": [
    {
     "data": {
      "text/plain": [
       "<kglab.kglab.KnowledgeGraph at 0x7f2ed5d6b210>"
      ]
     },
     "execution_count": 14,
     "metadata": {},
     "output_type": "execute_result"
    }
   ],
   "source": [
    "# Load data\n",
    "kg.load_rdf('data/geoportal_search_rdf.xml', format = 'xml')"
   ]
  },
  {
   "cell_type": "code",
   "execution_count": 15,
   "id": "db817f04",
   "metadata": {},
   "outputs": [],
   "source": [
    "VIS_STYLE = {\n",
    "    \"_\": {\n",
    "        \"color\": \"orange\",\n",
    "        \"size\": 40,\n",
    "    },\n",
    "    \"rdf\":{\n",
    "        \"color\": \"blue\",\n",
    "        \"size\": 30,\n",
    "    },\n",
    "}\n"
   ]
  },
  {
   "cell_type": "code",
   "execution_count": 16,
   "id": "67e162fc",
   "metadata": {
    "scrolled": true
   },
   "outputs": [
    {
     "data": {
      "text/html": [
       "\n",
       "        <iframe\n",
       "            width=\"500px\"\n",
       "            height=\"500px\"\n",
       "            src=\"tmp.geoportal_search.html\"\n",
       "            frameborder=\"0\"\n",
       "            allowfullscreen\n",
       "            \n",
       "        ></iframe>\n",
       "        "
      ],
      "text/plain": [
       "<IPython.lib.display.IFrame at 0x7f2ed5f08b50>"
      ]
     },
     "execution_count": 16,
     "metadata": {},
     "output_type": "execute_result"
    }
   ],
   "source": [
    "# Visualize graph\n",
    "subgraph = kglab.SubgraphTensor(kg)\n",
    "pyvis_graph = subgraph.build_pyvis_graph(style = VIS_STYLE, notebook = True)\n",
    "\n",
    "pyvis_graph.force_atlas_2based()\n",
    "pyvis_graph.show(\"tmp.geoportal_search.html\" )"
   ]
  }
 ],
 "metadata": {
  "kernelspec": {
   "display_name": "Python 3",
   "language": "python",
   "name": "python3"
  },
  "language_info": {
   "codemirror_mode": {
    "name": "ipython",
    "version": 3
   },
   "file_extension": ".py",
   "mimetype": "text/x-python",
   "name": "python",
   "nbconvert_exporter": "python",
   "pygments_lexer": "ipython3",
   "version": "3.7.10"
  }
 },
 "nbformat": 4,
 "nbformat_minor": 5
}
